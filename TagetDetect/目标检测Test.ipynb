{
 "cells": [
  {
   "cell_type": "markdown",
   "metadata": {},
   "source": [
    "# bounding box坐标定义：两种方式"
   ]
  },
  {
   "cell_type": "code",
   "execution_count": 2,
   "metadata": {},
   "outputs": [
    {
     "name": "stdout",
     "output_type": "stream",
     "text": [
      "tensor([[1, 2, 3, 4],\n",
      "        [5, 6, 7, 8]])\n",
      "tensor([[2., 3., 2., 2.],\n",
      "        [6., 7., 2., 2.]])\n",
      "tensor([[1., 2., 3., 4.],\n",
      "        [5., 6., 7., 8.]])\n"
     ]
    }
   ],
   "source": [
    "# 一种是x1,y1,x2,y2即左上右下两个矩形框坐标点，这里有个默认的信息其实是x2>x1，y2>y1\n",
    "# 二种是cx,cy,w,h即矩形中心点坐标、宽、高\n",
    "# 下面定义两种坐标表示方式的相互转换函数\n",
    "import torch\n",
    "def xyTocxcy(xy):\n",
    "    cxcy = torch.cat(((xy[:, 2:] + xy[:,:2])/2, xy[:, 2:] - xy[:,:2]) , 1)\n",
    "    return cxcy\n",
    "\n",
    "def cxcyToxy(cxcy):\n",
    "    xy = torch.cat((cxcy[:,:2] - (cxcy[:, 2:]/2), cxcy[:,:2] + (cxcy[:, 2:]/2)), 1)\n",
    "    return xy\n",
    "\n",
    "# 简单测试一下代码\n",
    "x = torch.tensor([[1,2,3,4], [5,6,7,8]])\n",
    "print(x)\n",
    "y = xyTocxcy(x)\n",
    "print(y)\n",
    "print(cxcyToxy(y))"
   ]
  },
  {
   "cell_type": "markdown",
   "metadata": {},
   "source": [
    "# 交并比（IoU)"
   ]
  },
  {
   "cell_type": "code",
   "execution_count": null,
   "metadata": {},
   "outputs": [],
   "source": [
    "# 交并比其实很好理解就是两个框相交的面积除以两个框取并集的面积，衡量比例\n",
    "def find_intersection(set_1, set_2):\n",
    "    \"\"\" \n",
    "    Find the intersection of every box combination between two sets of boxes that are in boundary coordinates.\n",
    "\n",
    "    :param set_1: set 1, a tensor of dimensions (n1, 4)                                                                                                           \n",
    "    :param set_2: set 2, a tensor of dimensions (n2, 4)\n",
    "    :return: intersection of each of the boxes in set 1 with respect to each of the boxes in set 2, a tensor of dimensions (n1, n2)\n",
    "    \"\"\"\n",
    "\n",
    "    # PyTorch auto-broadcasts singleton dimensions\n",
    "    lower_bounds = torch.max(set_1[:, :2].unsqueeze(1), set_2[:, :2].unsqueeze(0))  # (n1, n2, 2)\n",
    "    upper_bounds = torch.min(set_1[:, 2:].unsqueeze(1), set_2[:, 2:].unsqueeze(0))  # (n1, n2, 2)\n",
    "    intersection_dims = torch.clamp(upper_bounds - lower_bounds, min=0)  # (n1, n2, 2)\n",
    "    # clamp函数相当于minmax，定义为min(min(x, min), max)，意味着要规定下限和上限，默认无上限和下限\n",
    "    return intersection_dims[:, :, 0] * intersection_dims[:, :, 1]  # (n1, n2)\n",
    "\n",
    "\n",
    "def find_jaccard_overlap(set_1, set_2):\n",
    "    \"\"\" \n",
    "    Find the Jaccard Overlap (IoU) of every box combination between two sets of boxes that are in boundary coordinates.\n",
    "\n",
    "    :param set_1: set 1, a tensor of dimensions (n1, 4)\n",
    "    :param set_2: set 2, a tensor of dimensions (n2, 4)\n",
    "    :return: Jaccard Overlap of each of the boxes in set 1 with respect to each of the boxes in set 2, a tensor of dimensions (n1, n2)\n",
    "    \"\"\"\n",
    "\n",
    "    # Find intersections\n",
    "    intersection = find_intersection(set_1, set_2)  # (n1, n2)\n",
    "\n",
    "    # Find areas of each box in both sets\n",
    "    areas_set_1 = (set_1[:, 2] - set_1[:, 0]) * (set_1[:, 3] - set_1[:, 1])  # (n1)\n",
    "    areas_set_2 = (set_2[:, 2] - set_2[:, 0]) * (set_2[:, 3] - set_2[:, 1])  # (n2)\n",
    "\n",
    "    # Find the union\n",
    "    # PyTorch auto-broadcasts singleton dimensions\n",
    "    union = areas_set_1.unsqueeze(1) + areas_set_2.unsqueeze(0) - intersection  # (n1, n2)\n",
    "\n",
    "    return intersection / union  # (n1, n2)\n"
   ]
  }
 ],
 "metadata": {
  "kernelspec": {
   "display_name": "Python 3.9.13 ('pytorch_basic')",
   "language": "python",
   "name": "python3"
  },
  "language_info": {
   "codemirror_mode": {
    "name": "ipython",
    "version": 3
   },
   "file_extension": ".py",
   "mimetype": "text/x-python",
   "name": "python",
   "nbconvert_exporter": "python",
   "pygments_lexer": "ipython3",
   "version": "3.9.13"
  },
  "orig_nbformat": 4,
  "vscode": {
   "interpreter": {
    "hash": "5d7f9c8d1ba637fbaa165b7e1b068b277a24bdbbae2fecef2adf18f32dc564ea"
   }
  }
 },
 "nbformat": 4,
 "nbformat_minor": 2
}
