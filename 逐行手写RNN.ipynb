{
 "cells": [
  {
   "cell_type": "code",
   "execution_count": 2,
   "metadata": {},
   "outputs": [
    {
     "name": "stdout",
     "output_type": "stream",
     "text": [
      "tensor([[[ 0.1773, -0.1150, -0.5396],\n",
      "         [ 0.2456, -0.4637, -0.8172],\n",
      "         [ 0.7823, -0.7720, -0.8598]],\n",
      "\n",
      "        [[ 0.4552,  0.3404,  0.0755],\n",
      "         [ 0.5677,  0.2616, -0.0390],\n",
      "         [ 0.8455, -0.7918, -0.8138]]], grad_fn=<TransposeBackward1>)\n",
      "tensor([[[ 0.7823, -0.7720, -0.8598],\n",
      "         [ 0.8455, -0.7918, -0.8138]]], grad_fn=<StackBackward0>)\n"
     ]
    }
   ],
   "source": [
    "import torch\n",
    "import torch.nn as nn\n",
    "\n",
    "bs, T = 2, 3   # 批大小，输入序列长度\n",
    "input_size, hidden_size = 2, 3 # 输入特征大小，隐含层特征大小\n",
    "input  = torch.randn(bs, T, input_size)    # 随机初始化一个输入特征序列\n",
    "h_prev = torch.zeros(bs, hidden_size)     # 初始隐含状态\n",
    "\n",
    "# step1 调用pytorch RNN API\n",
    "rnn = nn.RNN(input_size, hidden_size, batch_first = True)\n",
    "rnn_output, state_final = rnn(input, h_prev.unsqueeze(0))\n",
    "print(rnn_output)\n",
    "print(state_final)"
   ]
  }
 ],
 "metadata": {
  "kernelspec": {
   "display_name": "Python 3.9.13 ('pytorch_basic')",
   "language": "python",
   "name": "python3"
  },
  "language_info": {
   "codemirror_mode": {
    "name": "ipython",
    "version": 3
   },
   "file_extension": ".py",
   "mimetype": "text/x-python",
   "name": "python",
   "nbconvert_exporter": "python",
   "pygments_lexer": "ipython3",
   "version": "3.9.13"
  },
  "orig_nbformat": 4,
  "vscode": {
   "interpreter": {
    "hash": "5d7f9c8d1ba637fbaa165b7e1b068b277a24bdbbae2fecef2adf18f32dc564ea"
   }
  }
 },
 "nbformat": 4,
 "nbformat_minor": 2
}
