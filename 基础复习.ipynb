{
 "cells": [
  {
   "cell_type": "markdown",
   "metadata": {},
   "source": [
    "## 数据集归一化与反归一化"
   ]
  },
  {
   "cell_type": "code",
   "execution_count": 1,
   "metadata": {},
   "outputs": [],
   "source": [
    "import numpy as np"
   ]
  },
  {
   "cell_type": "code",
   "execution_count": 2,
   "metadata": {},
   "outputs": [],
   "source": [
    "a = np.array([[4, 40, 32], [20, 3, 7], [30, 25, 9]])"
   ]
  },
  {
   "cell_type": "code",
   "execution_count": 3,
   "metadata": {},
   "outputs": [
    {
     "name": "stdout",
     "output_type": "stream",
     "text": [
      "[[0.         1.         1.        ]\n",
      " [0.61538462 0.         0.        ]\n",
      " [1.         0.59459459 0.08      ]]\n",
      "[4 3 7]\n"
     ]
    }
   ],
   "source": [
    "def Zero_To_One(data):\n",
    "    min = np.min(data, axis=0)\n",
    "    max = np.max(data, axis=0)    \n",
    "    return (data-min) / (max - min), min, max \n",
    "\n",
    "b, m, n = Zero_To_One(a)\n",
    "print(b)\n",
    "print(m)"
   ]
  },
  {
   "cell_type": "code",
   "execution_count": 4,
   "metadata": {},
   "outputs": [
    {
     "name": "stdout",
     "output_type": "stream",
     "text": [
      "[[ 4. 40. 32.]\n",
      " [20.  3.  7.]\n",
      " [30. 25.  9.]]\n"
     ]
    }
   ],
   "source": [
    "# 反归一化\n",
    "def back_To_origin(data, min, max):\n",
    "    return data*(max-min) + min\n",
    "\n",
    "c = back_To_origin(b, m, n)\n",
    "print(c)"
   ]
  },
  {
   "cell_type": "code",
   "execution_count": 22,
   "metadata": {},
   "outputs": [],
   "source": [
    "import torch\n",
    "from torch.utils.data import DataLoader\n",
    "\n",
    "data = torch.Tensor(b).to(torch.float64)\n",
    "dataload = DataLoader(data, batch_size=1)"
   ]
  },
  {
   "cell_type": "code",
   "execution_count": 23,
   "metadata": {},
   "outputs": [
    {
     "name": "stdout",
     "output_type": "stream",
     "text": [
      "[array([ 4., 40., 32.])]\n",
      "[array([ 4., 40., 32.]), array([20.0000006,  3.       ,  7.       ])]\n",
      "[array([ 4., 40., 32.]), array([20.0000006,  3.       ,  7.       ]), array([30.        , 25.00000012,  8.99999996])]\n"
     ]
    }
   ],
   "source": [
    "item = []\n",
    "for x in dataload:\n",
    "    item.append(back_To_origin(x,m,n).squeeze().numpy())\n",
    "    print(item)\n",
    "nn = np.stack(item)"
   ]
  },
  {
   "cell_type": "code",
   "execution_count": 24,
   "metadata": {},
   "outputs": [
    {
     "name": "stdout",
     "output_type": "stream",
     "text": [
      "[[ 4.         40.         32.        ]\n",
      " [20.0000006   3.          7.        ]\n",
      " [30.         25.00000012  8.99999996]]\n"
     ]
    }
   ],
   "source": [
    "print(nn)"
   ]
  },
  {
   "cell_type": "markdown",
   "metadata": {},
   "source": [
    "## Matplotlib"
   ]
  },
  {
   "cell_type": "code",
   "execution_count": 1,
   "metadata": {},
   "outputs": [],
   "source": [
    "import matplotlib.pyplot as plt"
   ]
  },
  {
   "cell_type": "code",
   "execution_count": null,
   "metadata": {},
   "outputs": [],
   "source": []
  }
 ],
 "metadata": {
  "kernelspec": {
   "display_name": "Python 3.6.13 ('py36')",
   "language": "python",
   "name": "python3"
  },
  "language_info": {
   "codemirror_mode": {
    "name": "ipython",
    "version": 3
   },
   "file_extension": ".py",
   "mimetype": "text/x-python",
   "name": "python",
   "nbconvert_exporter": "python",
   "pygments_lexer": "ipython3",
   "version": "3.6.13"
  },
  "orig_nbformat": 4,
  "vscode": {
   "interpreter": {
    "hash": "746d155c984ac2cabb2b93923236454beaeeed9e889e8acf51f5f4f74564db70"
   }
  }
 },
 "nbformat": 4,
 "nbformat_minor": 2
}
